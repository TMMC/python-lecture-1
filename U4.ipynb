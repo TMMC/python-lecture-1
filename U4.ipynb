{
 "cells": [
  {
   "cell_type": "markdown",
   "metadata": {
    "slideshow": {
     "slide_type": "slide"
    }
   },
   "source": [
    "# Język Python - Laboratorium 4."
   ]
  },
  {
   "cell_type": "markdown",
   "metadata": {},
   "source": [
    "## Przygotować źródło danych\n",
    "## Wygładzić dane\n",
    "## Wypisać dni, w których warto było kupić/sprzedać walutę\n",
    "## Wypisać dni, w których przyrost wartości waluty był największy\n",
    "## Obliczyć korelację między dwoma walutami\n",
    "$cov(X, Y) = E(X * Y) - E(X) * E(Y)$\n",
    "\n",
    "$corr(X, Y) = cov(X, Y) / (sd(X) * sd(Y)) =$\n",
    "\n",
    "  $= n * sum(xy) - sum(x) * sum(y) / sqrt( (n*sum(x^2) - sum(x)^2) * (n*sum(y^2) - sum(y)^2) )$"
   ]
  },
  {
   "cell_type": "markdown",
   "metadata": {},
   "source": [
    "### Zadanie domowe:\n",
    "Napisać program, który odczytuje plik w formacie JSON z opisem grafiki, wyświetla tę grafikę na ekranie i zapisuje w pliku PNG.\n",
    "\n",
    "Plik może zawierać:\n",
    "* punkty\n",
    "* wielokąty (podana lista punktów)\n",
    "* prostokąty (współrzędne środka, wysokość, szerokość) - równolegle do osi układu współrzędnych\n",
    "* kwadraty (środek i długość boku)\n",
    "* koła (środek i promień)\n",
    "\n",
    "Każda figura może mieć określony kolor w postaci słownej (z zadanej palety, np. red), trójki liczb dziesiętnych (np. (255, 0, 0) lub notacji HTML (#ff0000).\n",
    "\n",
    "Przykładowy plik zawierający wszystkie dopuszczalne elementy: http://home.agh.edu.pl/~zkaleta/python/sample.json\n",
    "\n",
    "Program ma przyjmować nazwę pliku wejściowego z linii komend. Jeżeli zostanie podana flaga -o (lub --output) to po niej ma być nazwa pliku, do którego grafikę należy zapisać. Jeśli flaga -o nie zostanie podana, to należy tylko wyświetlić na ekranie.\n",
    "\n",
    "**Termin oddania:**\n",
    "\n",
    "północ przed laboratorium 6."
   ]
  },
  {
   "cell_type": "code",
   "execution_count": null,
   "metadata": {},
   "outputs": [],
   "source": []
  }
 ],
 "metadata": {
  "kernelspec": {
   "display_name": "Python 3",
   "language": "python",
   "name": "python3"
  },
  "language_info": {
   "codemirror_mode": {
    "name": "ipython",
    "version": 3
   },
   "file_extension": ".py",
   "mimetype": "text/x-python",
   "name": "python",
   "nbconvert_exporter": "python",
   "pygments_lexer": "ipython3",
   "version": "3.6.5"
  }
 },
 "nbformat": 4,
 "nbformat_minor": 1
}
