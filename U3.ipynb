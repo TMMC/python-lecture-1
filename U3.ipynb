{
 "cells": [
  {
   "cell_type": "markdown",
   "metadata": {
    "slideshow": {
     "slide_type": "slide"
    }
   },
   "source": [
    "# Język Python - Laboratorium 3."
   ]
  },
  {
   "cell_type": "markdown",
   "metadata": {
    "slideshow": {
     "slide_type": "slide"
    }
   },
   "source": [
    "## Algorytm Quine'a - McCluskey'a"
   ]
  },
  {
   "cell_type": "markdown",
   "metadata": {},
   "source": [
    "(p&q) | (p&r) | p\n",
    "\n",
    "m(0, 4, 5, 7, 8, 11, 12, 15)"
   ]
  },
  {
   "cell_type": "markdown",
   "metadata": {},
   "source": [
    "## Wielomiany jednej zmiennej"
   ]
  },
  {
   "cell_type": "code",
   "execution_count": 5,
   "metadata": {},
   "outputs": [
    {
     "name": "stdout",
     "output_type": "stream",
     "text": [
      "defaultdict(<function Polynomial.__init__.<locals>.<lambda> at 0x7fbc683d7e18>, {1: 3, 2: 1})\n"
     ]
    }
   ],
   "source": [
    "from collections import defaultdict\n",
    "\n",
    "class Polynomial:\n",
    "    \n",
    "    def __init__(self, poly=None):\n",
    "        self.__a = defaultdict(lambda: 0)\n",
    "        if poly:\n",
    "            if type(poly) == type(self):\n",
    "                self.__a.update(poly.__a)\n",
    "            else:\n",
    "                raise TypeError()\n",
    "                \n",
    "    def __iadd__(self, other):\n",
    "        for k in other.__a:\n",
    "            self.__a[k] += other.__a[k]\n",
    "        return self\n",
    "        \n",
    "    def __add__(self, other):\n",
    "        res = Polynomial(self)\n",
    "        res += other\n",
    "        return res\n",
    "    \n",
    "P = Polynomial()\n",
    "Q = Polynomial()   \n",
    "P._Polynomial__a[1] = 2\n",
    "Q._Polynomial__a[2] = 1\n",
    "\n",
    "print((P+Q)._Polynomial__a)"
   ]
  },
  {
   "cell_type": "markdown",
   "metadata": {},
   "source": [
    "### Dodawanie wielomianów"
   ]
  },
  {
   "cell_type": "markdown",
   "metadata": {},
   "source": [
    "### Wypisywanie wielomianu"
   ]
  },
  {
   "cell_type": "markdown",
   "metadata": {},
   "source": [
    "### Długość i konwersja na wartość logiczną"
   ]
  },
  {
   "cell_type": "markdown",
   "metadata": {},
   "source": [
    "### Obliczanie wartości"
   ]
  },
  {
   "cell_type": "markdown",
   "metadata": {},
   "source": [
    "### Dostęp do poszczególnych współczynników\n",
    "P.a1 ma być współczynnikiem przy x^1 (ew. P[1])"
   ]
  }
 ],
 "metadata": {
  "kernelspec": {
   "display_name": "Python 3",
   "language": "python",
   "name": "python3"
  },
  "language_info": {
   "codemirror_mode": {
    "name": "ipython",
    "version": 3
   },
   "file_extension": ".py",
   "mimetype": "text/x-python",
   "name": "python",
   "nbconvert_exporter": "python",
   "pygments_lexer": "ipython3",
   "version": "3.6.7"
  }
 },
 "nbformat": 4,
 "nbformat_minor": 1
}
